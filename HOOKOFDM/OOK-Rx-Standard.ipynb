{
 "cells": [
  {
   "cell_type": "markdown",
   "metadata": {},
   "source": [
    "# KODE OOK based on standard 7A- Receiver"
   ]
  },
  {
   "cell_type": "markdown",
   "metadata": {},
   "source": [
    "#Rx side"
   ]
  },
  {
   "cell_type": "code",
   "execution_count": 5,
   "metadata": {},
   "outputs": [
    {
     "name": "stdout",
     "output_type": "stream",
     "text": [
      "\n",
      "Signal Length: 40\n",
      "Demodulated Signal: 1010101010010101011010101001011010010110\n",
      "Signal without Preamble: 10010101011010101001011010010110\n",
      "Manchester Decoded Bits: 1000011110011001\n",
      "Decoded Bits (After Hamming): 00110100\n",
      "Readable Text: 4\n"
     ]
    }
   ],
   "source": [
    "\n",
    "## Hamming 16 bit -Receiver \" Standard 7a\"\n",
    "\n",
    "\n",
    "# modulated_signal = [1, 0, 1, 0, 1, 0, 1, 0, 0, 1, 0, 1, 0, 1, 0, 1, 1, 0, 1, 0, 1, 0, 1, 0, 0, 1, 0, 1, 1, 0, 1, 0, 0, 1, 0, 1, 1, 0]\n",
    "# modulated_signal = [1, 0, 1, 0, 1, 0, 1, 0, 1, 0, 0, 1, 0, 1, 0, 1, 0, 1, 1, 0, 1, 0, 1, 0, 1, 0, 0, 1, 0, 1, 1, 0, 1, 0, 0, 1, 0, 1, 1, 0]\n",
    "# modulated_signal = [1, 0, 1, 0, 1, 0, 1, 0, 1, 1, 0, 1, 0, 1, 0, 1, 0, 1, 1, 0, 1, 0, 1, 0, 1, 1, 0, 1, 0, 1, 1, 1, 1, 0, 1, 1, 1, 1, 1, 1]\n",
    "\n",
    "# modulated_signal = [1, 0, 1, 0, 1, 0, 1, 0, 1, 0, 0, 1, 0, 1, 0, 1, 0, 1, 1, 0, 1, 0, 1, 0, 1, 0, 0, 1, 0, 1, 1, 0, 1, 0, 0, 1, 0, 1, 1, 0]\n",
    "modulated_signal = [1, 0, 1, 0, 1, 0, 1, 0, 1, 0, 0, 1, 0, 1, 0, 1, 0, 1, 1, 0, 1, 0, 1, 0, 1, 0, 0, 1, 0, 1, 1, 0, 1, 0, 0, 1, 0, 1, 1, 0]\n",
    "\n",
    "# 1. OOK Demodulation\n",
    "def ook_demodulation(modulated_signal):\n",
    "    # Mengubah sinyal OOK kembali menjadi bit stream: 1 -> ON, 0 -> OFF\n",
    "    return ''.join('1' if bit == 1 else '0' for bit in modulated_signal)\n",
    "\n",
    "# 2. Remove Preamble\n",
    "def remove_preamble(encoded_bits, preamble=\"10101010\"):\n",
    "    # Menghapus preamble yang ditambahkan sebelumnya\n",
    "    return encoded_bits[len(preamble):]\n",
    "\n",
    "# 3. RLL Decoding (Manchester)\n",
    "def manchester_decoding(data_bits):\n",
    "    decoded_bits = []\n",
    "    # Setiap dua bit pada data adalah hasil Manchester encoding\n",
    "    for i in range(0, len(data_bits), 2):\n",
    "        if data_bits[i:i+2] == \"10\":\n",
    "            decoded_bits.append('1')\n",
    "        elif data_bits[i:i+2] == \"01\":\n",
    "            decoded_bits.append('0')\n",
    "    return ''.join(decoded_bits)\n",
    "\n",
    "# 4. FEC Decoder (Hamming 8,4)\n",
    "def hamming_decoder(encoded_bits):\n",
    "    decoded_bits = []\n",
    "    for i in range(0, len(encoded_bits), 8):\n",
    "        # Ambil grup 8 bit yang sudah diterima\n",
    "        group = encoded_bits[i:i+8]\n",
    "        p1, p2, d1, p3, d2, d3, d4, p4 = group\n",
    "        \n",
    "        # Hitung syndrome untuk perbaikan bit error\n",
    "        s1 = (int(d1) + int(d2) + int(d4) + int(p1)) % 2\n",
    "        s2 = (int(d1) + int(d3) + int(d4) + int(p2)) % 2\n",
    "        s3 = (int(d2) + int(d3) + int(d4) + int(p3)) % 2\n",
    "        \n",
    "        # Tentukan posisi bit yang error\n",
    "        error_pos = s1 * 1 + s2 * 2 + s3 * 4\n",
    "        \n",
    "        if error_pos != 0:\n",
    "            # Perbaiki bit yang error (posisi dihitung dari 1)\n",
    "            error_pos -= 1  # Mengubah ke index 0\n",
    "            group = list(group)\n",
    "            group[error_pos] = '1' if group[error_pos] == '0' else '0'  # Membalikkan bit error\n",
    "\n",
    "        # Ambil data yang terdekode (d1, d2, d3, d4)\n",
    "        decoded_bits.append(group[2])\n",
    "        decoded_bits.append(group[4])\n",
    "        decoded_bits.append(group[5])\n",
    "        decoded_bits.append(group[6])\n",
    "    \n",
    "    return ''.join(decoded_bits)\n",
    "\n",
    "# Fungsi untuk mengubah biner menjadi karakter yang dapat dibaca\n",
    "def binary_to_text(binary_string):\n",
    "    # Pecah string biner menjadi blok 8-bit dan konversi setiap blok ke karakter\n",
    "    n = 8  # Setiap karakter adalah 8-bit\n",
    "    text = ''\n",
    "    for i in range(0, len(binary_string), n):\n",
    "        byte = binary_string[i:i+n]\n",
    "        text += chr(int(byte, 2))  # Konversi byte biner ke karakter\n",
    "    return text\n",
    "\n",
    "\n",
    "# Main Receiver Function\n",
    "def receiver(modulated_signal):\n",
    "    # Step 1: OOK Demodulation\n",
    "    demodulated_signal = ook_demodulation(modulated_signal)\n",
    "    print(f\"\\nSignal Length: {len(demodulated_signal)}\")\n",
    "    print(f\"Demodulated Signal: {demodulated_signal}\")\n",
    "    \n",
    "    # Step 2: Remove Preamble\n",
    "    signal_without_preamble = remove_preamble(demodulated_signal)\n",
    "    print(f\"Signal without Preamble: {signal_without_preamble}\")\n",
    "    \n",
    "    # Step 3: RLL Decoding (Manchester)\n",
    "    manchester_decoded_bits = manchester_decoding(signal_without_preamble)\n",
    "    print(f\"Manchester Decoded Bits: {manchester_decoded_bits}\")\n",
    "    \n",
    "    # Step 4: FEC Decoding (Hamming 8,4)\n",
    "    decoded_bits = hamming_decoder(manchester_decoded_bits)\n",
    "    print(f\"Decoded Bits (After Hamming): {decoded_bits}\")\n",
    "    \n",
    "\n",
    "    # Convert decoded bits to readable text\n",
    "    readable_text = binary_to_text(decoded_bits)\n",
    "    print(f\"Readable Text: {readable_text}\")\n",
    "\n",
    "    return decoded_bits\n",
    "\n",
    "# Call the Receiver function\n",
    "decoded_bits = receiver(modulated_signal)\n"
   ]
  },
  {
   "cell_type": "code",
   "execution_count": null,
   "metadata": {},
   "outputs": [],
   "source": []
  },
  {
   "cell_type": "code",
   "execution_count": null,
   "metadata": {},
   "outputs": [],
   "source": []
  },
  {
   "cell_type": "markdown",
   "metadata": {},
   "source": []
  },
  {
   "cell_type": "code",
   "execution_count": null,
   "metadata": {},
   "outputs": [],
   "source": []
  },
  {
   "cell_type": "code",
   "execution_count": null,
   "metadata": {},
   "outputs": [],
   "source": []
  },
  {
   "cell_type": "code",
   "execution_count": null,
   "metadata": {},
   "outputs": [],
   "source": []
  },
  {
   "cell_type": "code",
   "execution_count": null,
   "metadata": {},
   "outputs": [],
   "source": []
  },
  {
   "cell_type": "code",
   "execution_count": null,
   "metadata": {},
   "outputs": [],
   "source": []
  },
  {
   "cell_type": "code",
   "execution_count": null,
   "metadata": {},
   "outputs": [],
   "source": []
  }
 ],
 "metadata": {
  "kernelspec": {
   "display_name": "Python 3",
   "language": "python",
   "name": "python3"
  },
  "language_info": {
   "codemirror_mode": {
    "name": "ipython",
    "version": 3
   },
   "file_extension": ".py",
   "mimetype": "text/x-python",
   "name": "python",
   "nbconvert_exporter": "python",
   "pygments_lexer": "ipython3",
   "version": "3.11.4"
  }
 },
 "nbformat": 4,
 "nbformat_minor": 2
}
